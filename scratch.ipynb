{
 "cells": [
  {
   "cell_type": "code",
   "execution_count": 1,
   "metadata": {},
   "outputs": [],
   "source": [
    "import numpy as np\n",
    "import matplotlib.pyplot as plt\n",
    "import raster_tools as rt\n",
    "import geopandas as gpd\n",
    "import sys"
   ]
  },
  {
   "cell_type": "markdown",
   "metadata": {},
   "source": [
    "#### Random ee stuff"
   ]
  },
  {
   "cell_type": "code",
   "execution_count": 3,
   "metadata": {},
   "outputs": [
    {
     "data": {
      "text/html": [
       "\n",
       "            <style>\n",
       "                .geemap-dark {\n",
       "                    --jp-widgets-color: white;\n",
       "                    --jp-widgets-label-color: white;\n",
       "                    --jp-ui-font-color1: white;\n",
       "                    --jp-layout-color2: #454545;\n",
       "                    background-color: #383838;\n",
       "                }\n",
       "\n",
       "                .geemap-dark .jupyter-button {\n",
       "                    --jp-layout-color3: #383838;\n",
       "                }\n",
       "\n",
       "                .geemap-colab {\n",
       "                    background-color: var(--colab-primary-surface-color, white);\n",
       "                }\n",
       "\n",
       "                .geemap-colab .jupyter-button {\n",
       "                    --jp-layout-color3: var(--colab-primary-surface-color, white);\n",
       "                }\n",
       "            </style>\n",
       "            "
      ],
      "text/plain": [
       "<IPython.core.display.HTML object>"
      ]
     },
     "metadata": {},
     "output_type": "display_data"
    }
   ],
   "source": [
    "import datetime\n",
    "import ee\n",
    "import geemap\n",
    "import yaml\n",
    "from tqdm import tqdm\n",
    "import sys\n",
    "from pathlib import Path\n",
    "import time\n",
    "\n",
    "ee.Initialize()\n"
   ]
  },
  {
   "cell_type": "code",
   "execution_count": 14,
   "metadata": {},
   "outputs": [
    {
     "data": {
      "text/html": [
       "\n",
       "            <style>\n",
       "                .geemap-dark {\n",
       "                    --jp-widgets-color: white;\n",
       "                    --jp-widgets-label-color: white;\n",
       "                    --jp-ui-font-color1: white;\n",
       "                    --jp-layout-color2: #454545;\n",
       "                    background-color: #383838;\n",
       "                }\n",
       "\n",
       "                .geemap-dark .jupyter-button {\n",
       "                    --jp-layout-color3: #383838;\n",
       "                }\n",
       "\n",
       "                .geemap-colab {\n",
       "                    background-color: var(--colab-primary-surface-color, white);\n",
       "                }\n",
       "\n",
       "                .geemap-colab .jupyter-button {\n",
       "                    --jp-layout-color3: var(--colab-primary-surface-color, white);\n",
       "                }\n",
       "            </style>\n",
       "            "
      ],
      "text/plain": [
       "<IPython.core.display.HTML object>"
      ]
     },
     "metadata": {},
     "output_type": "display_data"
    }
   ],
   "source": [
    "tasks = str(ee.batch.Task.list()).count('READY')"
   ]
  },
  {
   "cell_type": "code",
   "execution_count": 16,
   "metadata": {},
   "outputs": [
    {
     "data": {
      "text/html": [
       "\n",
       "            <style>\n",
       "                .geemap-dark {\n",
       "                    --jp-widgets-color: white;\n",
       "                    --jp-widgets-label-color: white;\n",
       "                    --jp-ui-font-color1: white;\n",
       "                    --jp-layout-color2: #454545;\n",
       "                    background-color: #383838;\n",
       "                }\n",
       "\n",
       "                .geemap-dark .jupyter-button {\n",
       "                    --jp-layout-color3: #383838;\n",
       "                }\n",
       "\n",
       "                .geemap-colab {\n",
       "                    background-color: var(--colab-primary-surface-color, white);\n",
       "                }\n",
       "\n",
       "                .geemap-colab .jupyter-button {\n",
       "                    --jp-layout-color3: var(--colab-primary-surface-color, white);\n",
       "                }\n",
       "            </style>\n",
       "            "
      ],
      "text/plain": [
       "<IPython.core.display.HTML object>"
      ]
     },
     "metadata": {},
     "output_type": "display_data"
    },
    {
     "data": {
      "text/plain": [
       "1476"
      ]
     },
     "execution_count": 16,
     "metadata": {},
     "output_type": "execute_result"
    }
   ],
   "source": [
    "str(ee.batch.Task.list()).count('READY')"
   ]
  },
  {
   "cell_type": "markdown",
   "metadata": {},
   "source": [
    "#### Fire Points"
   ]
  },
  {
   "cell_type": "markdown",
   "metadata": {},
   "source": [
    "##### SUOMI VIIRS"
   ]
  },
  {
   "cell_type": "code",
   "execution_count": 3,
   "metadata": {},
   "outputs": [],
   "source": [
    "suomi_viirs_points = gpd.read_file('data/SUOMI_VIIRS_C2/fire_archive_SV-C2_574505.shp')"
   ]
  },
  {
   "cell_type": "code",
   "execution_count": null,
   "metadata": {},
   "outputs": [],
   "source": [
    "suomi_viirs_points.CONFIDENCE.value_counts()"
   ]
  },
  {
   "cell_type": "code",
   "execution_count": 7,
   "metadata": {},
   "outputs": [
    {
     "data": {
      "text/html": [
       "<div>\n",
       "<style scoped>\n",
       "    .dataframe tbody tr th:only-of-type {\n",
       "        vertical-align: middle;\n",
       "    }\n",
       "\n",
       "    .dataframe tbody tr th {\n",
       "        vertical-align: top;\n",
       "    }\n",
       "\n",
       "    .dataframe thead th {\n",
       "        text-align: right;\n",
       "    }\n",
       "</style>\n",
       "<table border=\"1\" class=\"dataframe\">\n",
       "  <thead>\n",
       "    <tr style=\"text-align: right;\">\n",
       "      <th></th>\n",
       "      <th>LATITUDE</th>\n",
       "      <th>LONGITUDE</th>\n",
       "      <th>BRIGHTNESS</th>\n",
       "      <th>SCAN</th>\n",
       "      <th>TRACK</th>\n",
       "      <th>ACQ_DATE</th>\n",
       "      <th>ACQ_TIME</th>\n",
       "      <th>SATELLITE</th>\n",
       "      <th>INSTRUMENT</th>\n",
       "      <th>CONFIDENCE</th>\n",
       "      <th>VERSION</th>\n",
       "      <th>BRIGHT_T31</th>\n",
       "      <th>FRP</th>\n",
       "      <th>DAYNIGHT</th>\n",
       "      <th>TYPE</th>\n",
       "      <th>geometry</th>\n",
       "    </tr>\n",
       "  </thead>\n",
       "  <tbody>\n",
       "    <tr>\n",
       "      <th>0</th>\n",
       "      <td>19.38371</td>\n",
       "      <td>-155.04800</td>\n",
       "      <td>332.81</td>\n",
       "      <td>0.43</td>\n",
       "      <td>0.62</td>\n",
       "      <td>2012-02-01</td>\n",
       "      <td>0014</td>\n",
       "      <td>N</td>\n",
       "      <td>VIIRS</td>\n",
       "      <td>n</td>\n",
       "      <td>2</td>\n",
       "      <td>295.55</td>\n",
       "      <td>11.02</td>\n",
       "      <td>D</td>\n",
       "      <td>0</td>\n",
       "      <td>POINT (-155.04800 19.38371)</td>\n",
       "    </tr>\n",
       "    <tr>\n",
       "      <th>1</th>\n",
       "      <td>39.93787</td>\n",
       "      <td>-76.81411</td>\n",
       "      <td>302.25</td>\n",
       "      <td>0.68</td>\n",
       "      <td>0.74</td>\n",
       "      <td>2012-02-01</td>\n",
       "      <td>0553</td>\n",
       "      <td>N</td>\n",
       "      <td>VIIRS</td>\n",
       "      <td>n</td>\n",
       "      <td>2</td>\n",
       "      <td>276.64</td>\n",
       "      <td>0.94</td>\n",
       "      <td>N</td>\n",
       "      <td>2</td>\n",
       "      <td>POINT (-76.81411 39.93787)</td>\n",
       "    </tr>\n",
       "    <tr>\n",
       "      <th>2</th>\n",
       "      <td>40.48211</td>\n",
       "      <td>-74.32283</td>\n",
       "      <td>299.34</td>\n",
       "      <td>0.51</td>\n",
       "      <td>0.66</td>\n",
       "      <td>2012-02-01</td>\n",
       "      <td>0553</td>\n",
       "      <td>N</td>\n",
       "      <td>VIIRS</td>\n",
       "      <td>n</td>\n",
       "      <td>2</td>\n",
       "      <td>271.78</td>\n",
       "      <td>0.70</td>\n",
       "      <td>N</td>\n",
       "      <td>2</td>\n",
       "      <td>POINT (-74.32283 40.48211)</td>\n",
       "    </tr>\n",
       "    <tr>\n",
       "      <th>3</th>\n",
       "      <td>39.21915</td>\n",
       "      <td>-76.48728</td>\n",
       "      <td>297.28</td>\n",
       "      <td>0.65</td>\n",
       "      <td>0.73</td>\n",
       "      <td>2012-02-01</td>\n",
       "      <td>0554</td>\n",
       "      <td>N</td>\n",
       "      <td>VIIRS</td>\n",
       "      <td>n</td>\n",
       "      <td>2</td>\n",
       "      <td>278.75</td>\n",
       "      <td>1.81</td>\n",
       "      <td>N</td>\n",
       "      <td>0</td>\n",
       "      <td>POINT (-76.48728 39.21915)</td>\n",
       "    </tr>\n",
       "    <tr>\n",
       "      <th>4</th>\n",
       "      <td>39.21233</td>\n",
       "      <td>-76.48756</td>\n",
       "      <td>303.34</td>\n",
       "      <td>0.65</td>\n",
       "      <td>0.73</td>\n",
       "      <td>2012-02-01</td>\n",
       "      <td>0554</td>\n",
       "      <td>N</td>\n",
       "      <td>VIIRS</td>\n",
       "      <td>n</td>\n",
       "      <td>2</td>\n",
       "      <td>277.53</td>\n",
       "      <td>0.98</td>\n",
       "      <td>N</td>\n",
       "      <td>0</td>\n",
       "      <td>POINT (-76.48756 39.21233)</td>\n",
       "    </tr>\n",
       "    <tr>\n",
       "      <th>...</th>\n",
       "      <td>...</td>\n",
       "      <td>...</td>\n",
       "      <td>...</td>\n",
       "      <td>...</td>\n",
       "      <td>...</td>\n",
       "      <td>...</td>\n",
       "      <td>...</td>\n",
       "      <td>...</td>\n",
       "      <td>...</td>\n",
       "      <td>...</td>\n",
       "      <td>...</td>\n",
       "      <td>...</td>\n",
       "      <td>...</td>\n",
       "      <td>...</td>\n",
       "      <td>...</td>\n",
       "      <td>...</td>\n",
       "    </tr>\n",
       "    <tr>\n",
       "      <th>6553540</th>\n",
       "      <td>44.33542</td>\n",
       "      <td>-119.69381</td>\n",
       "      <td>327.02</td>\n",
       "      <td>0.71</td>\n",
       "      <td>0.75</td>\n",
       "      <td>2024-09-30</td>\n",
       "      <td>2202</td>\n",
       "      <td>N</td>\n",
       "      <td>VIIRS</td>\n",
       "      <td>n</td>\n",
       "      <td>2</td>\n",
       "      <td>288.67</td>\n",
       "      <td>60.36</td>\n",
       "      <td>D</td>\n",
       "      <td>0</td>\n",
       "      <td>POINT (-119.69381 44.33542)</td>\n",
       "    </tr>\n",
       "    <tr>\n",
       "      <th>6553541</th>\n",
       "      <td>44.33530</td>\n",
       "      <td>-119.68279</td>\n",
       "      <td>208.00</td>\n",
       "      <td>0.71</td>\n",
       "      <td>0.75</td>\n",
       "      <td>2024-09-30</td>\n",
       "      <td>2202</td>\n",
       "      <td>N</td>\n",
       "      <td>VIIRS</td>\n",
       "      <td>l</td>\n",
       "      <td>2</td>\n",
       "      <td>323.47</td>\n",
       "      <td>177.33</td>\n",
       "      <td>D</td>\n",
       "      <td>0</td>\n",
       "      <td>POINT (-119.68279 44.33530)</td>\n",
       "    </tr>\n",
       "    <tr>\n",
       "      <th>6553542</th>\n",
       "      <td>44.34235</td>\n",
       "      <td>-119.67990</td>\n",
       "      <td>345.15</td>\n",
       "      <td>0.71</td>\n",
       "      <td>0.75</td>\n",
       "      <td>2024-09-30</td>\n",
       "      <td>2202</td>\n",
       "      <td>N</td>\n",
       "      <td>VIIRS</td>\n",
       "      <td>n</td>\n",
       "      <td>2</td>\n",
       "      <td>292.06</td>\n",
       "      <td>18.32</td>\n",
       "      <td>D</td>\n",
       "      <td>0</td>\n",
       "      <td>POINT (-119.67990 44.34235)</td>\n",
       "    </tr>\n",
       "    <tr>\n",
       "      <th>6553543</th>\n",
       "      <td>48.39992</td>\n",
       "      <td>-121.78659</td>\n",
       "      <td>327.06</td>\n",
       "      <td>0.58</td>\n",
       "      <td>0.70</td>\n",
       "      <td>2024-09-30</td>\n",
       "      <td>2204</td>\n",
       "      <td>N</td>\n",
       "      <td>VIIRS</td>\n",
       "      <td>n</td>\n",
       "      <td>2</td>\n",
       "      <td>283.15</td>\n",
       "      <td>3.73</td>\n",
       "      <td>D</td>\n",
       "      <td>0</td>\n",
       "      <td>POINT (-121.78659 48.39992)</td>\n",
       "    </tr>\n",
       "    <tr>\n",
       "      <th>6553544</th>\n",
       "      <td>48.40650</td>\n",
       "      <td>-121.79966</td>\n",
       "      <td>356.76</td>\n",
       "      <td>0.58</td>\n",
       "      <td>0.70</td>\n",
       "      <td>2024-09-30</td>\n",
       "      <td>2204</td>\n",
       "      <td>N</td>\n",
       "      <td>VIIRS</td>\n",
       "      <td>n</td>\n",
       "      <td>2</td>\n",
       "      <td>286.61</td>\n",
       "      <td>17.62</td>\n",
       "      <td>D</td>\n",
       "      <td>0</td>\n",
       "      <td>POINT (-121.79966 48.40650)</td>\n",
       "    </tr>\n",
       "  </tbody>\n",
       "</table>\n",
       "<p>6553545 rows × 16 columns</p>\n",
       "</div>"
      ],
      "text/plain": [
       "         LATITUDE  LONGITUDE  BRIGHTNESS  SCAN  TRACK    ACQ_DATE ACQ_TIME  \\\n",
       "0        19.38371 -155.04800      332.81  0.43   0.62  2012-02-01     0014   \n",
       "1        39.93787  -76.81411      302.25  0.68   0.74  2012-02-01     0553   \n",
       "2        40.48211  -74.32283      299.34  0.51   0.66  2012-02-01     0553   \n",
       "3        39.21915  -76.48728      297.28  0.65   0.73  2012-02-01     0554   \n",
       "4        39.21233  -76.48756      303.34  0.65   0.73  2012-02-01     0554   \n",
       "...           ...        ...         ...   ...    ...         ...      ...   \n",
       "6553540  44.33542 -119.69381      327.02  0.71   0.75  2024-09-30     2202   \n",
       "6553541  44.33530 -119.68279      208.00  0.71   0.75  2024-09-30     2202   \n",
       "6553542  44.34235 -119.67990      345.15  0.71   0.75  2024-09-30     2202   \n",
       "6553543  48.39992 -121.78659      327.06  0.58   0.70  2024-09-30     2204   \n",
       "6553544  48.40650 -121.79966      356.76  0.58   0.70  2024-09-30     2204   \n",
       "\n",
       "        SATELLITE INSTRUMENT CONFIDENCE VERSION  BRIGHT_T31     FRP DAYNIGHT  \\\n",
       "0               N      VIIRS          n       2      295.55   11.02        D   \n",
       "1               N      VIIRS          n       2      276.64    0.94        N   \n",
       "2               N      VIIRS          n       2      271.78    0.70        N   \n",
       "3               N      VIIRS          n       2      278.75    1.81        N   \n",
       "4               N      VIIRS          n       2      277.53    0.98        N   \n",
       "...           ...        ...        ...     ...         ...     ...      ...   \n",
       "6553540         N      VIIRS          n       2      288.67   60.36        D   \n",
       "6553541         N      VIIRS          l       2      323.47  177.33        D   \n",
       "6553542         N      VIIRS          n       2      292.06   18.32        D   \n",
       "6553543         N      VIIRS          n       2      283.15    3.73        D   \n",
       "6553544         N      VIIRS          n       2      286.61   17.62        D   \n",
       "\n",
       "         TYPE                     geometry  \n",
       "0           0  POINT (-155.04800 19.38371)  \n",
       "1           2   POINT (-76.81411 39.93787)  \n",
       "2           2   POINT (-74.32283 40.48211)  \n",
       "3           0   POINT (-76.48728 39.21915)  \n",
       "4           0   POINT (-76.48756 39.21233)  \n",
       "...       ...                          ...  \n",
       "6553540     0  POINT (-119.69381 44.33542)  \n",
       "6553541     0  POINT (-119.68279 44.33530)  \n",
       "6553542     0  POINT (-119.67990 44.34235)  \n",
       "6553543     0  POINT (-121.78659 48.39992)  \n",
       "6553544     0  POINT (-121.79966 48.40650)  \n",
       "\n",
       "[6553545 rows x 16 columns]"
      ]
     },
     "execution_count": 7,
     "metadata": {},
     "output_type": "execute_result"
    }
   ],
   "source": [
    "suomi_viirs_points"
   ]
  },
  {
   "cell_type": "code",
   "execution_count": 8,
   "metadata": {},
   "outputs": [],
   "source": [
    "# create a dictionary of dataframe.  each key will be an ACQ_DATE and the value will be a dataframe of all the fires on that date\n",
    "fire_dict = {}\n",
    "for date in suomi_viirs_points.ACQ_DATE.unique():\n",
    "    fire_dict[date] = suomi_viirs_points[suomi_viirs_points.ACQ_DATE == date]"
   ]
  },
  {
   "cell_type": "code",
   "execution_count": 17,
   "metadata": {},
   "outputs": [
    {
     "data": {
      "text/plain": [
       "<Axes: >"
      ]
     },
     "execution_count": 17,
     "metadata": {},
     "output_type": "execute_result"
    },
    {
     "data": {
      "image/png": "[encoded data removed]",
      "text/plain": [
       "<Figure size 640x480 with 1 Axes>"
      ]
     },
     "metadata": {},
     "output_type": "display_data"
    }
   ],
   "source": [
    "fire_dict['2022-07-25'].plot()"
   ]
  },
  {
   "cell_type": "markdown",
   "metadata": {},
   "source": [
    "##### VIIRS J1V C2"
   ]
  },
  {
   "cell_type": "code",
   "execution_count": 2,
   "metadata": {},
   "outputs": [],
   "source": [
    "viirs_af_points = gpd.read_file('data/viirs_af_points/fire_nrt_J1V-C2_572603.shp')"
   ]
  },
  {
   "cell_type": "code",
   "execution_count": null,
   "metadata": {},
   "outputs": [],
   "source": [
    "viirs_af_points.CONFIDENCE.value_counts()"
   ]
  },
  {
   "cell_type": "code",
   "execution_count": 17,
   "metadata": {},
   "outputs": [],
   "source": [
    "viirs_af_filter_low = viirs_af_points[viirs_af_points.CONFIDENCE != 'l']"
   ]
  },
  {
   "cell_type": "code",
   "execution_count": null,
   "metadata": {},
   "outputs": [],
   "source": [
    "viirs_af_filter_low"
   ]
  },
  {
   "cell_type": "code",
   "execution_count": 25,
   "metadata": {},
   "outputs": [],
   "source": [
    "import geopandas as gpd\n",
    "from shapely.ops import unary_union\n",
    "import pandas as pd\n",
    "from datetime import timedelta\n",
    "\n",
    "def cluster_fires(gdf, distance_threshold_meters=2000, time_threshold_hours=1):\n",
    "    \"\"\"Cluster fire points based on spatial and temporal proximity\"\"\"\n",
    "    \n",
    "    # Ensure input is in WGS84\n",
    "    if gdf.crs != 'EPSG:4326':\n",
    "        gdf = gdf.to_crs('EPSG:4326')\n",
    "    \n",
    "    # Project to NAD83 Conus Albers for accurate distance measurements\n",
    "    gdf_projected = gdf.to_crs('EPSG:5070')\n",
    "    \n",
    "    # Convert time columns to datetime\n",
    "    gdf_projected['acq_datetime'] = pd.to_datetime(gdf_projected['ACQ_DATE'] + gdf_projected['ACQ_TIME'].astype(str).str.zfill(4), \n",
    "                                                 format='%Y-%m-%d%H%M')\n",
    "    \n",
    "    clusters = []\n",
    "    for date, day_gdf in gdf_projected.groupby(gdf_projected['acq_datetime'].dt.date):\n",
    "        points_processed = set()\n",
    "        \n",
    "        for idx1, row1 in day_gdf.iterrows():\n",
    "            if idx1 in points_processed:\n",
    "                continue\n",
    "            \n",
    "            nearby_mask = day_gdf.geometry.distance(row1.geometry) <= distance_threshold_meters\n",
    "            nearby_points = day_gdf[nearby_mask]\n",
    "            \n",
    "            time_mask = (nearby_points['acq_datetime'] - row1['acq_datetime']).abs() <= timedelta(hours=time_threshold_hours)\n",
    "            cluster_points = nearby_points[time_mask]\n",
    "            \n",
    "            if not cluster_points.empty:\n",
    "                cluster_geom = unary_union(cluster_points.geometry)\n",
    "                centroid = cluster_geom.centroid\n",
    "                \n",
    "                # Create a temporary GeoDataFrame with the centroid to reproject back to WGS84\n",
    "                centroid_gdf = gpd.GeoDataFrame(geometry=[centroid], crs='EPSG:5070')\n",
    "                centroid_wgs84 = centroid_gdf.to_crs('EPSG:4326').geometry[0]\n",
    "                \n",
    "                clusters.append({\n",
    "                    'geometry': centroid_wgs84,\n",
    "                    'lat': centroid_wgs84.y,\n",
    "                    'lon': centroid_wgs84.x,\n",
    "                    'start_time': cluster_points['acq_datetime'].min(),\n",
    "                    'end_time': cluster_points['acq_datetime'].max(),\n",
    "                    'num_points': len(cluster_points)\n",
    "                })\n",
    "                \n",
    "                points_processed.update(cluster_points.index)\n",
    "    \n",
    "    # Return the clusters in WGS84\n",
    "    return gpd.GeoDataFrame(clusters, crs='EPSG:4326')\n",
    "\n",
    "# Usage:\n",
    "viirs_af_clusters = cluster_fires(viirs_af_filter_low)"
   ]
  },
  {
   "cell_type": "code",
   "execution_count": null,
   "metadata": {},
   "outputs": [],
   "source": [
    "viirs_af_clusters.num_points.value_counts()"
   ]
  },
  {
   "cell_type": "markdown",
   "metadata": {},
   "source": [
    "#### Fire Rasters"
   ]
  },
  {
   "cell_type": "code",
   "execution_count": 2,
   "metadata": {},
   "outputs": [],
   "source": [
    "fire_2022 = rt.Raster(\"data/download/Image_Export_fire_TX2966909410420221109_2022-11-02.tif\")"
   ]
  },
  {
   "cell_type": "code",
   "execution_count": 28,
   "metadata": {},
   "outputs": [],
   "source": [
    "fire_2021 = rt.Raster(\"data/wfspreadts_orig/2021/fire_24935867/2021-02-12.tif\")"
   ]
  },
  {
   "cell_type": "code",
   "execution_count": null,
   "metadata": {},
   "outputs": [],
   "source": [
    "fire_2022.xdata.long_name.index('active fire')"
   ]
  },
  {
   "cell_type": "code",
   "execution_count": null,
   "metadata": {},
   "outputs": [],
   "source": [
    "len(fire_2022.xdata.long_name)"
   ]
  },
  {
   "cell_type": "code",
   "execution_count": null,
   "metadata": {},
   "outputs": [],
   "source": [
    "fire_2022.get_bands(fire_2022.xdata.long_name.index('active fire')+1).mean().compute()"
   ]
  },
  {
   "cell_type": "code",
   "execution_count": null,
   "metadata": {},
   "outputs": [],
   "source": [
    "fire_2021.xdata.long_name.index('active fire')"
   ]
  },
  {
   "cell_type": "code",
   "execution_count": null,
   "metadata": {},
   "outputs": [],
   "source": [
    "fire_2022.xdata.long_name"
   ]
  },
  {
   "cell_type": "code",
   "execution_count": null,
   "metadata": {},
   "outputs": [],
   "source": [
    "fire_2022.get_bands(fire_2022.xdata.long_name.index('active fire')).mean().compute()"
   ]
  },
  {
   "cell_type": "code",
   "execution_count": null,
   "metadata": {},
   "outputs": [],
   "source": [
    "# path to the raster file: data/2018/fire_21458798/2018-01-01.tif\n",
    "\n",
    "# fire2018_01_01 = rt.Raster('data/2018/fire_21458798/2018-01-01.tif')\n",
    "# fire2018_01_01_hd5 = rt.open_vectors('hd5data/2018/fire_21458798.hd5')"
   ]
  },
  {
   "cell_type": "code",
   "execution_count": null,
   "metadata": {},
   "outputs": [],
   "source": [
    "# fire2018_01_01_hd5.xdata"
   ]
  }
 ],
 "metadata": {
  "kernelspec": {
   "display_name": "genv",
   "language": "python",
   "name": "python3"
  },
  "language_info": {
   "codemirror_mode": {
    "name": "ipython",
    "version": 3
   },
   "file_extension": ".py",
   "mimetype": "text/x-python",
   "name": "python",
   "nbconvert_exporter": "python",
   "pygments_lexer": "ipython3",
   "version": "3.8.18"
  }
 },
 "nbformat": 4,
 "nbformat_minor": 2
}
